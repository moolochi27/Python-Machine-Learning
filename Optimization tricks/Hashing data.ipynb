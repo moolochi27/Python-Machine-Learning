{
 "cells": [
  {
   "cell_type": "code",
   "execution_count": 4,
   "id": "684a83ad",
   "metadata": {},
   "outputs": [],
   "source": [
    "#hashing in python is a trick used to reduce the size of datasets. In data that is text based, hashing is used to \n",
    "#convert the data from large strings to numbers."
   ]
  },
  {
   "cell_type": "code",
   "execution_count": 2,
   "id": "2033794d",
   "metadata": {},
   "outputs": [
    {
     "name": "stdout",
     "output_type": "stream",
     "text": [
      "-8251540431460395707\n",
      "707\n"
     ]
    }
   ],
   "source": [
    "print(hash('Python'))\n",
    "#python hashes every object. This can be made usable and more compact with the following\n",
    "print(abs(hash('Python'))%1000)\n",
    "#where up to 1000 different hashes can exist. \n",
    "#It is possible however, that two different words can have the same compact hash.\n"
   ]
  },
  {
   "cell_type": "code",
   "execution_count": 5,
   "id": "d910737d",
   "metadata": {},
   "outputs": [
    {
     "name": "stdout",
     "output_type": "stream",
     "text": [
      "{'python': 4, 'for': 1, 'machine': 3, 'learning': 2, 'data': 0, 'science': 5}\n"
     ]
    }
   ],
   "source": [
    "#one hot encoding: a method of changing categorical data into nuermical data. a dict is produced.\n",
    "from sklearn.feature_extraction.text import *\n",
    "oh_encoder = CountVectorizer()\n",
    "oh_encoded = oh_encoder.fit_transform(\n",
    "['Python for machine learning', 'Python for data science'])\n",
    "\n",
    "print(oh_encoder.vocabulary_)"
   ]
  },
  {
   "cell_type": "code",
   "execution_count": 10,
   "id": "da77c495",
   "metadata": {},
   "outputs": [
    {
     "name": "stdout",
     "output_type": "stream",
     "text": [
      "[0, 0, 1, 0, 0, 0, 0, 1, 0, 1, 0, 0, 0, 0, 1, 0, 0, 0, 0, 0]\n",
      "[0, 0, 0, 0, 1, 0, 1, 1, 0, 1, 0, 0, 0, 0, 0, 0, 0, 0, 0, 0]\n"
     ]
    }
   ],
   "source": [
    "#one hot encoding fails where there is a lot of variability\n",
    "\n",
    "string_1 = 'Python for data science'\n",
    "string_2 = 'Python for machine learning'\n",
    "\n",
    "def hashing_trick(input_string, vector_size = 20):\n",
    "    feature_vector = [0] * vector_size\n",
    "    for word in input_string.split(' '):\n",
    "        index=abs(hash(word)) % vector_size\n",
    "        feature_vector[index] = 1\n",
    "    return feature_vector\n",
    "\n",
    "print(hashing_trick(input_string=string_1, vector_size = 20))\n",
    "\n",
    "print(hashing_trick(input_string = string_2, vector_size = 20))"
   ]
  },
  {
   "cell_type": "code",
   "execution_count": 13,
   "id": "6289d081",
   "metadata": {},
   "outputs": [
    {
     "name": "stdout",
     "output_type": "stream",
     "text": [
      "  (0, 2)\t1\n",
      "  (0, 7)\t1\n",
      "  (0, 9)\t1\n",
      "  (0, 14)\t1\n"
     ]
    }
   ],
   "source": [
    "#there are a lot of zeros. That can be reduced even further in terms of storage space\n",
    "from scipy.sparse import csc_matrix\n",
    "print(csc_matrix([0, 0, 1, 0, 0, 0, 0, 1, 0, 1, 0, 0, 0, 0, 1, 0, 0, 0, 0, 0]))"
   ]
  },
  {
   "cell_type": "code",
   "execution_count": 16,
   "id": "b0c76447",
   "metadata": {},
   "outputs": [
    {
     "data": {
      "text/plain": [
       "matrix([[0., 0., 0., 1., 0., 0., 0., 0., 0., 1., 0., 0., 1., 0., 0., 0.,\n",
       "         0., 0., 0., 0.]])"
      ]
     },
     "execution_count": 16,
     "metadata": {},
     "output_type": "execute_result"
    }
   ],
   "source": [
    "#luckily, scikitlearn already has a lot of the hashing tricks done for us. In this case we create a\n",
    "#sparsed matrix\n",
    "\n",
    "import sklearn.feature_extraction.text as txt\n",
    "\n",
    "oh_encoder = CountVectorizer()\n",
    "oh_encoded = oh_encoder.fit_transform(\n",
    "['Python for machine learning', 'Python for data science'])\n",
    "\n",
    "htrick = txt.HashingVectorizer(n_features=20, binary = True, norm = None)\n",
    "hashed_text = htrick.transform(['Python for data science', 'Python for machine learning'])\n",
    "hashed_text\n",
    "#compare count vectorizer to hashing vectorizer\n",
    "oh_encoder.transform(['New text test']).todense() #all zeros, doesn't add new words\n",
    "htrick.transform(['New text test']).todense() #adds new positions to fill so long as features < n_features"
   ]
  },
  {
   "cell_type": "code",
   "execution_count": null,
   "id": "4799498b",
   "metadata": {},
   "outputs": [],
   "source": []
  }
 ],
 "metadata": {
  "kernelspec": {
   "display_name": "Python 3 (ipykernel)",
   "language": "python",
   "name": "python3"
  },
  "language_info": {
   "codemirror_mode": {
    "name": "ipython",
    "version": 3
   },
   "file_extension": ".py",
   "mimetype": "text/x-python",
   "name": "python",
   "nbconvert_exporter": "python",
   "pygments_lexer": "ipython3",
   "version": "3.9.7"
  }
 },
 "nbformat": 4,
 "nbformat_minor": 5
}
