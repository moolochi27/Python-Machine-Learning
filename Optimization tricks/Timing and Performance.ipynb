{
 "cells": [
  {
   "cell_type": "code",
   "execution_count": null,
   "id": "9e87daf0",
   "metadata": {},
   "outputs": [],
   "source": [
    "#in jupyter notebook, can use %timeit for best performance time for a single line of code\n",
    "#or %%timeit to get best performance time for all instructions in a cell"
   ]
  },
  {
   "cell_type": "code",
   "execution_count": 1,
   "id": "5f79c1b1",
   "metadata": {},
   "outputs": [
    {
     "name": "stdout",
     "output_type": "stream",
     "text": [
      "53.3 ms ± 612 µs per loop (mean ± std. dev. of 7 runs, 10 loops each)\n"
     ]
    }
   ],
   "source": [
    "%timeit l = [k for k in range(10**6)]"
   ]
  },
  {
   "cell_type": "code",
   "execution_count": 2,
   "id": "dd988248",
   "metadata": {},
   "outputs": [
    {
     "name": "stdout",
     "output_type": "stream",
     "text": [
      "53 ms ± 1.15 ms per loop (mean ± std. dev. of 5 runs, 20 loops each)\n"
     ]
    }
   ],
   "source": [
    "#adding -r and -n parameters, runs and number of loops \n",
    "%timeit -n 20 -r 5 l = [k for k in range(10**6)]"
   ]
  },
  {
   "cell_type": "code",
   "execution_count": null,
   "id": "105a52b2",
   "metadata": {},
   "outputs": [],
   "source": [
    "#outside of anaconda, use import timeit"
   ]
  }
 ],
 "metadata": {
  "kernelspec": {
   "display_name": "Python 3 (ipykernel)",
   "language": "python",
   "name": "python3"
  },
  "language_info": {
   "codemirror_mode": {
    "name": "ipython",
    "version": 3
   },
   "file_extension": ".py",
   "mimetype": "text/x-python",
   "name": "python",
   "nbconvert_exporter": "python",
   "pygments_lexer": "ipython3",
   "version": "3.9.7"
  }
 },
 "nbformat": 4,
 "nbformat_minor": 5
}
