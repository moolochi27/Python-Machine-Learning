{
 "cells": [
  {
   "cell_type": "code",
   "execution_count": 2,
   "id": "7f8d9dfb",
   "metadata": {},
   "outputs": [
    {
     "name": "stdout",
     "output_type": "stream",
     "text": [
      "1.21 s ± 16.7 ms per loop (mean ± std. dev. of 7 runs, 1 loop each)\n"
     ]
    }
   ],
   "source": [
    "#python is single core by default\n",
    "#for sklearn, just set n_jobs to be greater to 1 or -1, which will use all availible cores\n",
    "#multicore is availible for the following:\n",
    "# cross-validation\n",
    "# grid searching\n",
    "# multilabel prediction\n",
    "# ensemble maching learning\n",
    "\n",
    "from sklearn.datasets import load_digits\n",
    "digits = load_digits()\n",
    "X,y = digits.data,digits.target\n",
    "\n",
    "from sklearn.svm import SVC\n",
    "from sklearn.model_selection import cross_val_score\n",
    "\n",
    "%timeit single_core = cross_val_score(SVC(), X, y, \\\n",
    "                                      cv=20, n_jobs=1)"
   ]
  },
  {
   "cell_type": "code",
   "execution_count": 3,
   "id": "08267f0d",
   "metadata": {},
   "outputs": [
    {
     "name": "stdout",
     "output_type": "stream",
     "text": [
      "318 ms ± 4.86 ms per loop (mean ± std. dev. of 7 runs, 1 loop each)\n"
     ]
    }
   ],
   "source": [
    "%timeit multi_core = cross_val_score(SVC(), X, y, \\\n",
    "                                      cv=20, n_jobs=-1)"
   ]
  },
  {
   "cell_type": "code",
   "execution_count": null,
   "id": "1d209536",
   "metadata": {},
   "outputs": [],
   "source": []
  }
 ],
 "metadata": {
  "kernelspec": {
   "display_name": "Python 3 (ipykernel)",
   "language": "python",
   "name": "python3"
  },
  "language_info": {
   "codemirror_mode": {
    "name": "ipython",
    "version": 3
   },
   "file_extension": ".py",
   "mimetype": "text/x-python",
   "name": "python",
   "nbconvert_exporter": "python",
   "pygments_lexer": "ipython3",
   "version": "3.9.7"
  }
 },
 "nbformat": 4,
 "nbformat_minor": 5
}
