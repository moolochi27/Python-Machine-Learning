{
 "cells": [
  {
   "cell_type": "code",
   "execution_count": 1,
   "id": "f7690b1c",
   "metadata": {},
   "outputs": [
    {
     "name": "stdout",
     "output_type": "stream",
     "text": [
      "Reading Line 2 Content: Orange   2\n",
      "\n",
      "Reading Line 3 Content: Yellow   3\n",
      "\n",
      "Reading Line 5 Content: Blue     5\n",
      "\n",
      "Reading Line 8 Content: White    8\n"
     ]
    }
   ],
   "source": [
    "#opening with native python techiques\n",
    "from random import random\n",
    "sample_size = 0.5\n",
    "with open(\"Colors.txt\", 'r') as open_file:\n",
    "  for j, observation in enumerate(open_file):\n",
    "    if random() <= sample_size:\n",
    "        print('Reading Line ' + str(j) + ' Content: ' + observation)\n",
    "    "
   ]
  },
  {
   "cell_type": "code",
   "execution_count": 2,
   "id": "e72332af",
   "metadata": {},
   "outputs": [
    {
     "name": "stdout",
     "output_type": "stream",
     "text": [
      "0     Blue\n",
      "1      Red\n",
      "2    Green\n",
      "dtype: category\n",
      "Categories (3, object): ['Blue', 'Green', 'Red']\n",
      "\n",
      "0      NaN\n",
      "1    Green\n",
      "2      Red\n",
      "3     Blue\n",
      "4      NaN\n",
      "dtype: category\n",
      "Categories (3, object): ['Blue', 'Green', 'Red']\n",
      "\n",
      "0    True\n",
      "4    True\n",
      "dtype: bool\n",
      "\n",
      "0       NaN\n",
      "1    Violet\n",
      "2     Mauve\n",
      "3     Beige\n",
      "4       NaN\n",
      "dtype: category\n",
      "Categories (3, object): ['Beige', 'Violet', 'Mauve']\n"
     ]
    }
   ],
   "source": [
    "import pandas as pd\n",
    "\n",
    "car_colors = pd.Series(['Blue', 'Red', 'Green'], dtype='category')\n",
    "car_data = pd.Series(pd.Categorical(['Yellow', 'Green', 'Red', 'Blue', 'Purple'], categories = car_colors, ordered=False))\n",
    "\n",
    "find_entries = pd.isnull(car_data)\n",
    "\n",
    "print(car_colors)\n",
    "print()\n",
    "print(car_data)\n",
    "print()\n",
    "print(find_entries[find_entries == True])\n",
    "\n",
    "\n",
    "#changing category names\n",
    "car_colors.cat.categories = [\"Beige\", \"Violet\", \"Mauve\"]\n",
    "car_data.cat.categories = car_colors\n",
    "\n",
    "print()\n",
    "print(car_data)"
   ]
  },
  {
   "cell_type": "code",
   "execution_count": 3,
   "id": "c779a02e",
   "metadata": {},
   "outputs": [
    {
     "name": "stdout",
     "output_type": "stream",
     "text": [
      "2    Red\n",
      "4    Red\n",
      "dtype: category\n",
      "Categories (4, object): ['Blue', 'Red', 'Green', 'Blue_Red']\n",
      "\n",
      "0    Blue_Red\n",
      "1       Green\n",
      "2    Blue_Red\n",
      "3       Green\n",
      "4    Blue_Red\n",
      "5       Green\n",
      "dtype: category\n",
      "Categories (2, object): ['Green', 'Blue_Red']\n"
     ]
    }
   ],
   "source": [
    "import pandas as pd\n",
    "\n",
    "car_colors = pd.Series(['Blue', 'Red', 'Green'], dtype='category')\n",
    "car_data = pd.Series(pd.Categorical(['Blue', 'Green', 'Red', 'Green', 'Red', 'Green'],\n",
    "                                   categories = car_colors, ordered=False))\n",
    "\n",
    "#combining small ctegories\n",
    "#add the combo into the categories\n",
    "car_data = car_data.cat.set_categories([\"Blue\", \"Red\", \"Green\", \"Blue_Red\"])\n",
    "print(car_data.loc[car_data.isin(['Red'])])\n",
    "#replace all blue and red with bluered\n",
    "car_data.loc[car_data.isin(['Red'])] = 'Blue_Red'\n",
    "car_data.loc[car_data.isin(['Blue'])] = 'Blue_Red'\n",
    "\n",
    "#change the categories\n",
    "car_data = car_data.cat.set_categories([\"Green\", \"Blue_Red\"])\n",
    "\n",
    "print()\n",
    "print(car_data)"
   ]
  },
  {
   "cell_type": "code",
   "execution_count": 4,
   "id": "6cc8721f",
   "metadata": {
    "scrolled": true
   },
   "outputs": [
    {
     "name": "stdout",
     "output_type": "stream",
     "text": [
      "0    False\n",
      "1    False\n",
      "2    False\n",
      "3     True\n",
      "4    False\n",
      "5    False\n",
      "6     True\n",
      "dtype: bool\n",
      "\n",
      "3   NaN\n",
      "6   NaN\n",
      "dtype: float64\n",
      "\n",
      "0    1.0\n",
      "1    2.0\n",
      "2    3.0\n",
      "3    3.0\n",
      "4    5.0\n",
      "5    6.0\n",
      "6    3.0\n",
      "dtype: float64\n",
      "\n",
      "0    1.0\n",
      "1    2.0\n",
      "2    3.0\n",
      "4    5.0\n",
      "5    6.0\n",
      "dtype: float64\n",
      "\n",
      "0    1.0\n",
      "1    2.0\n",
      "2    3.0\n",
      "3    4.0\n",
      "4    5.0\n",
      "5    6.0\n",
      "6    7.0\n",
      "dtype: float64\n"
     ]
    }
   ],
   "source": [
    "import pandas as pd\n",
    "import numpy as np\n",
    "\n",
    "s = pd.Series([1,2,3, np.NaN, 5,6, None])\n",
    "print(s.isnull())\n",
    "print()\n",
    "print(s[s.isnull()])\n",
    "print()\n",
    "\n",
    "#replace na with means\n",
    "print(s.fillna(int(s.mean())))\n",
    "print()\n",
    "\n",
    "#delte nas.\n",
    "print(s.dropna())\n",
    "\n",
    "#inputting missing data\n",
    "import numpy as np\n",
    "from sklearn.impute import SimpleImputer\n",
    "print()\n",
    "t = [[1,2,3,np.NaN,5,6,None]]\n",
    "imp = SimpleImputer(missing_values=np.nan, strategy='mean')\n",
    "imp.fit([[1,2,3,4,5,6,7]])\n",
    "x=pd.Series(imp.transform(t).tolist()[0])\n",
    "print(x)"
   ]
  },
  {
   "cell_type": "code",
   "execution_count": 5,
   "id": "2fb135e5",
   "metadata": {},
   "outputs": [
    {
     "name": "stdout",
     "output_type": "stream",
     "text": [
      "   A  B  C\n",
      "0  2  1  5\n",
      "1  3  2  3\n",
      "2  1  3  4\n",
      "3  4  4  4\n",
      "\n",
      "   A  B  C\n",
      "0  2  1  5\n",
      "1  3  2  3\n",
      "2  1  3  4\n",
      "3  4  4  4\n",
      "4  5  5  5\n",
      "\n",
      "   A  B  C  D\n",
      "0  2  1  5  1\n",
      "1  3  2  3  2\n",
      "2  1  3  4  3\n",
      "3  4  4  4  4\n",
      "4  5  5  5  5\n"
     ]
    }
   ],
   "source": [
    "import pandas as pd\n",
    "\n",
    "#adding rows method 1\n",
    "df = pd.DataFrame({'A' : [2,3,1],\n",
    "                    'B' : [1,2,3],\n",
    "                    'C' : [5,3,4]})\n",
    "df1 = pd.DataFrame({'A' : [4],\n",
    "                   'B' : [4],\n",
    "                   'C' : [4]})\n",
    "df = df.append(df1)\n",
    "df = df.reset_index(drop=True)\n",
    "print(df)\n",
    "\n",
    "#adding rows method 2\n",
    "df.loc[df.last_valid_index() + 1] = [5,5,5]\n",
    "print()\n",
    "print(df)\n",
    "\n",
    "#adding columns\n",
    "df2 = pd.DataFrame({'D' : [1,2,3,4,5]})\n",
    "df=pd.DataFrame.join(df, df2)\n",
    "print()\n",
    "print(df)"
   ]
  },
  {
   "cell_type": "code",
   "execution_count": 6,
   "id": "c4eff534",
   "metadata": {},
   "outputs": [
    {
     "name": "stdout",
     "output_type": "stream",
     "text": [
      "   A  B  C\n",
      "0  2  1  5\n",
      "2  1  3  4\n",
      "\n",
      "   A  C\n",
      "0  2  5\n",
      "2  1  4\n"
     ]
    },
    {
     "name": "stderr",
     "output_type": "stream",
     "text": [
      "/var/folders/yh/ppyghh_n3xv3v_y1p7yrkjhr0000gn/T/ipykernel_2743/1203973705.py:10: FutureWarning: In a future version of pandas all arguments of DataFrame.drop except for the argument 'labels' will be keyword-only\n",
      "  df = df.drop('B', 1)\n"
     ]
    }
   ],
   "source": [
    "import pandas as pd\n",
    "df = pd.DataFrame({'A' : [2,3,1],\n",
    "                    'B' : [1,2,3],\n",
    "                    'C' : [5,3,4]})\n",
    "\n",
    "df = df.drop(df.index[[1]])\n",
    "print(df)\n",
    "print()\n",
    "\n",
    "df = df.drop('B', 1)\n",
    "print(df)"
   ]
  },
  {
   "cell_type": "code",
   "execution_count": 8,
   "id": "12372b1b",
   "metadata": {},
   "outputs": [
    {
     "name": "stdout",
     "output_type": "stream",
     "text": [
      "   A  B  C\n",
      "0  1  2  3\n",
      "1  2  1  5\n",
      "2  2  3  4\n",
      "3  3  4  1\n",
      "4  3  5  1\n",
      "5  4  5  3\n",
      "6  5  2  2\n",
      "\n",
      "   A  B  C\n",
      "0  1  2  3\n",
      "1  2  1  5\n",
      "2  4  5  3\n",
      "3  3  4  1\n",
      "4  3  5  1\n",
      "5  2  3  4\n",
      "6  5  2  2\n"
     ]
    }
   ],
   "source": [
    "import pandas as pd\n",
    "import numpy as np\n",
    "\n",
    "df = pd.DataFrame({'A': [2,1,2,3,3,5,4],\n",
    "                  'B' : [1,2,3,5,4,2,5],\n",
    "                  'C' : [5,3,4,1,1,2,3]})\n",
    "\n",
    "#sorts by ascending A, in cases of tie, sort by ascending B\n",
    "df=df.sort_values(by=['A', 'B'], ascending=[True, True])\n",
    "df = df.reset_index(drop=True)\n",
    "print(df)\n",
    "\n",
    "#shuffling the data\n",
    "index = df.index.tolist()\n",
    "np.random.shuffle(index)\n",
    "df = df.loc[df.index[index]]\n",
    "df = df.reset_index(drop=True)\n",
    "print()\n",
    "print(df)"
   ]
  },
  {
   "cell_type": "code",
   "execution_count": 10,
   "id": "53a92a73",
   "metadata": {},
   "outputs": [
    {
     "name": "stdout",
     "output_type": "stream",
     "text": [
      "   Map  Values  S    M    V\n",
      "0    0       1  6  2.0  1.0\n",
      "1    0       2  6  2.0  1.0\n",
      "2    0       3  6  2.0  1.0\n",
      "3    1       5  9  4.5  0.5\n",
      "4    1       4  9  4.5  0.5\n",
      "5    2       2  7  3.5  4.5\n",
      "6    2       5  7  3.5  4.5\n"
     ]
    }
   ],
   "source": [
    "import pandas as pd\n",
    "df = pd.DataFrame({'Map' : [0,0,0,1,1,2,2],\n",
    "                  'Values' : [1,2,3,5,4,2,5]})\n",
    "\n",
    "#add some columns based on Map index\n",
    "df['S'] = df.groupby('Map')['Values'].transform(np.sum)\n",
    "df['M'] = df.groupby('Map')['Values'].transform(np.mean)\n",
    "df['V'] = df.groupby('Map')['Values'].transform(np.var)\n",
    "\n",
    "print(df)"
   ]
  },
  {
   "cell_type": "code",
   "execution_count": null,
   "id": "13cd9051",
   "metadata": {},
   "outputs": [],
   "source": []
  }
 ],
 "metadata": {
  "kernelspec": {
   "display_name": "Python 3 (ipykernel)",
   "language": "python",
   "name": "python3"
  },
  "language_info": {
   "codemirror_mode": {
    "name": "ipython",
    "version": 3
   },
   "file_extension": ".py",
   "mimetype": "text/x-python",
   "name": "python",
   "nbconvert_exporter": "python",
   "pygments_lexer": "ipython3",
   "version": "3.9.7"
  }
 },
 "nbformat": 4,
 "nbformat_minor": 5
}
